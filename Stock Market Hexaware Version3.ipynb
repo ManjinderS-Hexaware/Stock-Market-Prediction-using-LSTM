{
 "cells": [
  {
   "cell_type": "code",
   "execution_count": 1,
   "metadata": {},
   "outputs": [],
   "source": [
    "# Importing the libraries\n",
    "import numpy as np\n",
    "import matplotlib.pyplot as plt\n",
    "import pandas as pd\n",
    "import datetime"
   ]
  },
  {
   "cell_type": "code",
   "execution_count": 2,
   "metadata": {},
   "outputs": [],
   "source": [
    "dataset = pd.read_csv('F:/Innovation_Lab/PYTHON/HEXAWARE_Train_2002-2017.csv',index_col=\"Date\",parse_dates=True)\n"
   ]
  },
  {
   "cell_type": "code",
   "execution_count": 3,
   "metadata": {},
   "outputs": [
    {
     "data": {
      "text/html": [
       "<div>\n",
       "<style scoped>\n",
       "    .dataframe tbody tr th:only-of-type {\n",
       "        vertical-align: middle;\n",
       "    }\n",
       "\n",
       "    .dataframe tbody tr th {\n",
       "        vertical-align: top;\n",
       "    }\n",
       "\n",
       "    .dataframe thead th {\n",
       "        text-align: right;\n",
       "    }\n",
       "</style>\n",
       "<table border=\"1\" class=\"dataframe\">\n",
       "  <thead>\n",
       "    <tr style=\"text-align: right;\">\n",
       "      <th></th>\n",
       "      <th>Open</th>\n",
       "      <th>High</th>\n",
       "      <th>Low</th>\n",
       "      <th>Close</th>\n",
       "      <th>Adj Close</th>\n",
       "      <th>Volume</th>\n",
       "    </tr>\n",
       "    <tr>\n",
       "      <th>Date</th>\n",
       "      <th></th>\n",
       "      <th></th>\n",
       "      <th></th>\n",
       "      <th></th>\n",
       "      <th></th>\n",
       "      <th></th>\n",
       "    </tr>\n",
       "  </thead>\n",
       "  <tbody>\n",
       "    <tr>\n",
       "      <th>2002-07-03</th>\n",
       "      <td>3.2550</td>\n",
       "      <td>3.4000</td>\n",
       "      <td>3.2550</td>\n",
       "      <td>3.3800</td>\n",
       "      <td>1.515444</td>\n",
       "      <td>81812.0</td>\n",
       "    </tr>\n",
       "    <tr>\n",
       "      <th>2002-07-04</th>\n",
       "      <td>3.4000</td>\n",
       "      <td>3.5250</td>\n",
       "      <td>3.3050</td>\n",
       "      <td>3.3400</td>\n",
       "      <td>1.497510</td>\n",
       "      <td>101884.0</td>\n",
       "    </tr>\n",
       "    <tr>\n",
       "      <th>2002-07-05</th>\n",
       "      <td>3.3975</td>\n",
       "      <td>3.3975</td>\n",
       "      <td>3.2650</td>\n",
       "      <td>3.2825</td>\n",
       "      <td>1.471729</td>\n",
       "      <td>32594.0</td>\n",
       "    </tr>\n",
       "    <tr>\n",
       "      <th>2002-07-08</th>\n",
       "      <td>3.3250</td>\n",
       "      <td>3.4450</td>\n",
       "      <td>3.3250</td>\n",
       "      <td>3.3750</td>\n",
       "      <td>1.513202</td>\n",
       "      <td>81158.0</td>\n",
       "    </tr>\n",
       "    <tr>\n",
       "      <th>2002-07-09</th>\n",
       "      <td>3.3625</td>\n",
       "      <td>3.4000</td>\n",
       "      <td>3.3225</td>\n",
       "      <td>3.3375</td>\n",
       "      <td>1.496389</td>\n",
       "      <td>31876.0</td>\n",
       "    </tr>\n",
       "  </tbody>\n",
       "</table>\n",
       "</div>"
      ],
      "text/plain": [
       "              Open    High     Low   Close  Adj Close    Volume\n",
       "Date                                                           \n",
       "2002-07-03  3.2550  3.4000  3.2550  3.3800   1.515444   81812.0\n",
       "2002-07-04  3.4000  3.5250  3.3050  3.3400   1.497510  101884.0\n",
       "2002-07-05  3.3975  3.3975  3.2650  3.2825   1.471729   32594.0\n",
       "2002-07-08  3.3250  3.4450  3.3250  3.3750   1.513202   81158.0\n",
       "2002-07-09  3.3625  3.4000  3.3225  3.3375   1.496389   31876.0"
      ]
     },
     "execution_count": 3,
     "metadata": {},
     "output_type": "execute_result"
    }
   ],
   "source": [
    "dataset.head()\n"
   ]
  },
  {
   "cell_type": "code",
   "execution_count": 4,
   "metadata": {},
   "outputs": [
    {
     "data": {
      "text/plain": [
       "Open         True\n",
       "High         True\n",
       "Low          True\n",
       "Close        True\n",
       "Adj Close    True\n",
       "Volume       True\n",
       "dtype: bool"
      ]
     },
     "execution_count": 4,
     "metadata": {},
     "output_type": "execute_result"
    }
   ],
   "source": [
    "dataset.isna().any()"
   ]
  },
  {
   "cell_type": "code",
   "execution_count": 5,
   "metadata": {},
   "outputs": [],
   "source": [
    "dataset = dataset.replace(to_replace='null', value=np.nan).dropna()"
   ]
  },
  {
   "cell_type": "code",
   "execution_count": 6,
   "metadata": {},
   "outputs": [
    {
     "data": {
      "text/plain": [
       "Open         False\n",
       "High         False\n",
       "Low          False\n",
       "Close        False\n",
       "Adj Close    False\n",
       "Volume       False\n",
       "dtype: bool"
      ]
     },
     "execution_count": 6,
     "metadata": {},
     "output_type": "execute_result"
    }
   ],
   "source": [
    "dataset.isna().any()"
   ]
  },
  {
   "cell_type": "code",
   "execution_count": 7,
   "metadata": {},
   "outputs": [
    {
     "name": "stdout",
     "output_type": "stream",
     "text": [
      "<class 'pandas.core.frame.DataFrame'>\n",
      "DatetimeIndex: 3702 entries, 2002-07-03 to 2017-07-03\n",
      "Data columns (total 6 columns):\n",
      " #   Column     Non-Null Count  Dtype  \n",
      "---  ------     --------------  -----  \n",
      " 0   Open       3702 non-null   float64\n",
      " 1   High       3702 non-null   float64\n",
      " 2   Low        3702 non-null   float64\n",
      " 3   Close      3702 non-null   float64\n",
      " 4   Adj Close  3702 non-null   float64\n",
      " 5   Volume     3702 non-null   float64\n",
      "dtypes: float64(6)\n",
      "memory usage: 202.5 KB\n"
     ]
    }
   ],
   "source": [
    "dataset.info()"
   ]
  },
  {
   "cell_type": "code",
   "execution_count": 8,
   "metadata": {},
   "outputs": [
    {
     "data": {
      "text/plain": [
       "<matplotlib.axes._subplots.AxesSubplot at 0x1b30192d8c8>"
      ]
     },
     "execution_count": 8,
     "metadata": {},
     "output_type": "execute_result"
    },
    {
     "data": {
      "image/png": "[encoded data removed]",
      "text/plain": [
       "<Figure size 1152x432 with 1 Axes>"
      ]
     },
     "metadata": {
      "needs_background": "light"
     },
     "output_type": "display_data"
    }
   ],
   "source": [
    "dataset['Open'].plot(figsize=(16,6))"
   ]
  },
  {
   "cell_type": "code",
   "execution_count": 9,
   "metadata": {},
   "outputs": [],
   "source": [
    "# convert column \"a\" of a DataFrame\n",
    "#dataset[\"Close\"] = dataset[\"Close\"].str.replace(',', '').astype(float)\n"
   ]
  },
  {
   "cell_type": "code",
   "execution_count": 10,
   "metadata": {},
   "outputs": [],
   "source": [
    "#dataset[\"Volume\"] = dataset[\"Volume\"].str.replace(',', '').astype(float)"
   ]
  },
  {
   "cell_type": "code",
   "execution_count": 11,
   "metadata": {},
   "outputs": [
    {
     "data": {
      "text/html": [
       "<div>\n",
       "<style scoped>\n",
       "    .dataframe tbody tr th:only-of-type {\n",
       "        vertical-align: middle;\n",
       "    }\n",
       "\n",
       "    .dataframe tbody tr th {\n",
       "        vertical-align: top;\n",
       "    }\n",
       "\n",
       "    .dataframe thead th {\n",
       "        text-align: right;\n",
       "    }\n",
       "</style>\n",
       "<table border=\"1\" class=\"dataframe\">\n",
       "  <thead>\n",
       "    <tr style=\"text-align: right;\">\n",
       "      <th></th>\n",
       "      <th>Open</th>\n",
       "      <th>High</th>\n",
       "      <th>Low</th>\n",
       "      <th>Close</th>\n",
       "      <th>Adj Close</th>\n",
       "      <th>Volume</th>\n",
       "    </tr>\n",
       "    <tr>\n",
       "      <th>Date</th>\n",
       "      <th></th>\n",
       "      <th></th>\n",
       "      <th></th>\n",
       "      <th></th>\n",
       "      <th></th>\n",
       "      <th></th>\n",
       "    </tr>\n",
       "  </thead>\n",
       "  <tbody>\n",
       "    <tr>\n",
       "      <th>2002-07-03</th>\n",
       "      <td>NaN</td>\n",
       "      <td>NaN</td>\n",
       "      <td>NaN</td>\n",
       "      <td>NaN</td>\n",
       "      <td>NaN</td>\n",
       "      <td>NaN</td>\n",
       "    </tr>\n",
       "    <tr>\n",
       "      <th>2002-07-04</th>\n",
       "      <td>NaN</td>\n",
       "      <td>NaN</td>\n",
       "      <td>NaN</td>\n",
       "      <td>NaN</td>\n",
       "      <td>NaN</td>\n",
       "      <td>NaN</td>\n",
       "    </tr>\n",
       "    <tr>\n",
       "      <th>2002-07-05</th>\n",
       "      <td>NaN</td>\n",
       "      <td>NaN</td>\n",
       "      <td>NaN</td>\n",
       "      <td>NaN</td>\n",
       "      <td>NaN</td>\n",
       "      <td>NaN</td>\n",
       "    </tr>\n",
       "    <tr>\n",
       "      <th>2002-07-08</th>\n",
       "      <td>NaN</td>\n",
       "      <td>NaN</td>\n",
       "      <td>NaN</td>\n",
       "      <td>NaN</td>\n",
       "      <td>NaN</td>\n",
       "      <td>NaN</td>\n",
       "    </tr>\n",
       "    <tr>\n",
       "      <th>2002-07-09</th>\n",
       "      <td>NaN</td>\n",
       "      <td>NaN</td>\n",
       "      <td>NaN</td>\n",
       "      <td>NaN</td>\n",
       "      <td>NaN</td>\n",
       "      <td>NaN</td>\n",
       "    </tr>\n",
       "    <tr>\n",
       "      <th>2002-07-10</th>\n",
       "      <td>NaN</td>\n",
       "      <td>NaN</td>\n",
       "      <td>NaN</td>\n",
       "      <td>NaN</td>\n",
       "      <td>NaN</td>\n",
       "      <td>NaN</td>\n",
       "    </tr>\n",
       "    <tr>\n",
       "      <th>2002-07-11</th>\n",
       "      <td>3.320000</td>\n",
       "      <td>3.392857</td>\n",
       "      <td>3.246786</td>\n",
       "      <td>3.286429</td>\n",
       "      <td>1.473491</td>\n",
       "      <td>56985.428571</td>\n",
       "    </tr>\n",
       "    <tr>\n",
       "      <th>2002-07-12</th>\n",
       "      <td>3.297857</td>\n",
       "      <td>3.356786</td>\n",
       "      <td>3.210357</td>\n",
       "      <td>3.235357</td>\n",
       "      <td>1.450592</td>\n",
       "      <td>51097.714286</td>\n",
       "    </tr>\n",
       "    <tr>\n",
       "      <th>2002-07-15</th>\n",
       "      <td>3.240714</td>\n",
       "      <td>3.299286</td>\n",
       "      <td>3.146071</td>\n",
       "      <td>3.167857</td>\n",
       "      <td>1.420328</td>\n",
       "      <td>39876.285714</td>\n",
       "    </tr>\n",
       "    <tr>\n",
       "      <th>2002-07-16</th>\n",
       "      <td>3.156429</td>\n",
       "      <td>3.226786</td>\n",
       "      <td>3.072500</td>\n",
       "      <td>3.096786</td>\n",
       "      <td>1.388463</td>\n",
       "      <td>39736.571429</td>\n",
       "    </tr>\n",
       "    <tr>\n",
       "      <th>2002-07-17</th>\n",
       "      <td>3.074286</td>\n",
       "      <td>3.133929</td>\n",
       "      <td>2.976429</td>\n",
       "      <td>2.998214</td>\n",
       "      <td>1.344268</td>\n",
       "      <td>32044.285714</td>\n",
       "    </tr>\n",
       "    <tr>\n",
       "      <th>2002-07-18</th>\n",
       "      <td>2.905000</td>\n",
       "      <td>3.051786</td>\n",
       "      <td>2.812857</td>\n",
       "      <td>2.915714</td>\n",
       "      <td>1.307278</td>\n",
       "      <td>31391.142857</td>\n",
       "    </tr>\n",
       "    <tr>\n",
       "      <th>2002-07-19</th>\n",
       "      <td>2.828571</td>\n",
       "      <td>2.966071</td>\n",
       "      <td>2.731071</td>\n",
       "      <td>2.837500</td>\n",
       "      <td>1.272210</td>\n",
       "      <td>31250.000000</td>\n",
       "    </tr>\n",
       "    <tr>\n",
       "      <th>2002-07-22</th>\n",
       "      <td>2.735714</td>\n",
       "      <td>2.882857</td>\n",
       "      <td>2.656429</td>\n",
       "      <td>2.762143</td>\n",
       "      <td>1.238423</td>\n",
       "      <td>29640.571429</td>\n",
       "    </tr>\n",
       "    <tr>\n",
       "      <th>2002-07-23</th>\n",
       "      <td>2.653571</td>\n",
       "      <td>2.818929</td>\n",
       "      <td>2.581786</td>\n",
       "      <td>2.711786</td>\n",
       "      <td>1.215846</td>\n",
       "      <td>29286.857143</td>\n",
       "    </tr>\n",
       "    <tr>\n",
       "      <th>2002-07-24</th>\n",
       "      <td>2.602857</td>\n",
       "      <td>2.753214</td>\n",
       "      <td>2.542143</td>\n",
       "      <td>2.675357</td>\n",
       "      <td>1.199513</td>\n",
       "      <td>33109.714286</td>\n",
       "    </tr>\n",
       "    <tr>\n",
       "      <th>2002-07-25</th>\n",
       "      <td>2.588214</td>\n",
       "      <td>2.740357</td>\n",
       "      <td>2.515357</td>\n",
       "      <td>2.651786</td>\n",
       "      <td>1.188944</td>\n",
       "      <td>32862.857143</td>\n",
       "    </tr>\n",
       "    <tr>\n",
       "      <th>2002-07-26</th>\n",
       "      <td>2.558214</td>\n",
       "      <td>2.707500</td>\n",
       "      <td>2.472857</td>\n",
       "      <td>2.608929</td>\n",
       "      <td>1.169729</td>\n",
       "      <td>35555.714286</td>\n",
       "    </tr>\n",
       "    <tr>\n",
       "      <th>2002-07-29</th>\n",
       "      <td>2.632500</td>\n",
       "      <td>2.689286</td>\n",
       "      <td>2.476071</td>\n",
       "      <td>2.537857</td>\n",
       "      <td>1.137864</td>\n",
       "      <td>37442.857143</td>\n",
       "    </tr>\n",
       "    <tr>\n",
       "      <th>2002-07-30</th>\n",
       "      <td>2.594286</td>\n",
       "      <td>2.651071</td>\n",
       "      <td>2.383929</td>\n",
       "      <td>2.466071</td>\n",
       "      <td>1.105678</td>\n",
       "      <td>41382.571429</td>\n",
       "    </tr>\n",
       "  </tbody>\n",
       "</table>\n",
       "</div>"
      ],
      "text/plain": [
       "                Open      High       Low     Close  Adj Close        Volume\n",
       "Date                                                                       \n",
       "2002-07-03       NaN       NaN       NaN       NaN        NaN           NaN\n",
       "2002-07-04       NaN       NaN       NaN       NaN        NaN           NaN\n",
       "2002-07-05       NaN       NaN       NaN       NaN        NaN           NaN\n",
       "2002-07-08       NaN       NaN       NaN       NaN        NaN           NaN\n",
       "2002-07-09       NaN       NaN       NaN       NaN        NaN           NaN\n",
       "2002-07-10       NaN       NaN       NaN       NaN        NaN           NaN\n",
       "2002-07-11  3.320000  3.392857  3.246786  3.286429   1.473491  56985.428571\n",
       "2002-07-12  3.297857  3.356786  3.210357  3.235357   1.450592  51097.714286\n",
       "2002-07-15  3.240714  3.299286  3.146071  3.167857   1.420328  39876.285714\n",
       "2002-07-16  3.156429  3.226786  3.072500  3.096786   1.388463  39736.571429\n",
       "2002-07-17  3.074286  3.133929  2.976429  2.998214   1.344268  32044.285714\n",
       "2002-07-18  2.905000  3.051786  2.812857  2.915714   1.307278  31391.142857\n",
       "2002-07-19  2.828571  2.966071  2.731071  2.837500   1.272210  31250.000000\n",
       "2002-07-22  2.735714  2.882857  2.656429  2.762143   1.238423  29640.571429\n",
       "2002-07-23  2.653571  2.818929  2.581786  2.711786   1.215846  29286.857143\n",
       "2002-07-24  2.602857  2.753214  2.542143  2.675357   1.199513  33109.714286\n",
       "2002-07-25  2.588214  2.740357  2.515357  2.651786   1.188944  32862.857143\n",
       "2002-07-26  2.558214  2.707500  2.472857  2.608929   1.169729  35555.714286\n",
       "2002-07-29  2.632500  2.689286  2.476071  2.537857   1.137864  37442.857143\n",
       "2002-07-30  2.594286  2.651071  2.383929  2.466071   1.105678  41382.571429"
      ]
     },
     "execution_count": 11,
     "metadata": {},
     "output_type": "execute_result"
    }
   ],
   "source": [
    "# 7 day rolling mean\n",
    "dataset.rolling(7).mean().head(20)"
   ]
  },
  {
   "cell_type": "code",
   "execution_count": 12,
   "metadata": {},
   "outputs": [
    {
     "data": {
      "text/plain": [
       "<matplotlib.axes._subplots.AxesSubplot at 0x1b301da4448>"
      ]
     },
     "execution_count": 12,
     "metadata": {},
     "output_type": "execute_result"
    },
    {
     "data": {
      "image/png": "[encoded data removed]",
      "text/plain": [
       "<Figure size 1152x432 with 1 Axes>"
      ]
     },
     "metadata": {
      "needs_background": "light"
     },
     "output_type": "display_data"
    }
   ],
   "source": [
    "dataset['Open'].plot(figsize=(16,6))\n",
    "dataset.rolling(window=30).mean()['Close'].plot()"
   ]
  },
  {
   "cell_type": "code",
   "execution_count": 13,
   "metadata": {},
   "outputs": [
    {
     "data": {
      "text/plain": [
       "<matplotlib.axes._subplots.AxesSubplot at 0x1b301b06d08>"
      ]
     },
     "execution_count": 13,
     "metadata": {},
     "output_type": "execute_result"
    },
    {
     "data": {
      "image/png": "[encoded data removed]",
      "text/plain": [
       "<Figure size 1152x432 with 1 Axes>"
      ]
     },
     "metadata": {
      "needs_background": "light"
     },
     "output_type": "display_data"
    }
   ],
   "source": [
    "dataset['Close: 30 Day Mean'] = dataset['Close'].rolling(window=30).mean()\n",
    "dataset[['Close','Close: 30 Day Mean']].plot(figsize=(16,6))"
   ]
  },
  {
   "cell_type": "code",
   "execution_count": 41,
   "metadata": {},
   "outputs": [],
   "source": [
    "# Optional specify a minimum number of periods\n",
    "#dataset['Close'].expanding(min_periods=1).mean().plot(figsize=(16,6))"
   ]
  },
  {
   "cell_type": "code",
   "execution_count": 15,
   "metadata": {},
   "outputs": [],
   "source": [
    "training_set=dataset['Open']\n",
    "training_set=pd.DataFrame(training_set)\n"
   ]
  },
  {
   "cell_type": "code",
   "execution_count": 16,
   "metadata": {},
   "outputs": [],
   "source": [
    "# Feature Scaling\n",
    "from sklearn.preprocessing import MinMaxScaler\n",
    "sc = MinMaxScaler(feature_range = (0, 1))\n",
    "training_set_scaled = sc.fit_transform(training_set)"
   ]
  },
  {
   "cell_type": "code",
   "execution_count": 17,
   "metadata": {},
   "outputs": [],
   "source": [
    "# Creating a data structure with 60 timesteps and 1 output\n",
    "X_train = []\n",
    "y_train = []\n",
    "for i in range(60, 3702):\n",
    "    X_train.append(training_set_scaled[i-60:i, 0])\n",
    "    y_train.append(training_set_scaled[i, 0])\n",
    "X_train, y_train = np.array(X_train), np.array(y_train)\n",
    "\n",
    "# Reshaping\n",
    "X_train = np.reshape(X_train, (X_train.shape[0], X_train.shape[1], 1))"
   ]
  },
  {
   "cell_type": "code",
   "execution_count": 18,
   "metadata": {},
   "outputs": [
    {
     "name": "stderr",
     "output_type": "stream",
     "text": [
      "Using TensorFlow backend.\n",
      "C:\\Users\\Pavilion 15 E-019Tx\\anaconda3\\lib\\site-packages\\tensorflow\\python\\framework\\dtypes.py:516: FutureWarning: Passing (type, 1) or '1type' as a synonym of type is deprecated; in a future version of numpy, it will be understood as (type, (1,)) / '(1,)type'.\n",
      "  _np_qint8 = np.dtype([(\"qint8\", np.int8, 1)])\n",
      "C:\\Users\\Pavilion 15 E-019Tx\\anaconda3\\lib\\site-packages\\tensorflow\\python\\framework\\dtypes.py:517: FutureWarning: Passing (type, 1) or '1type' as a synonym of type is deprecated; in a future version of numpy, it will be understood as (type, (1,)) / '(1,)type'.\n",
      "  _np_quint8 = np.dtype([(\"quint8\", np.uint8, 1)])\n",
      "C:\\Users\\Pavilion 15 E-019Tx\\anaconda3\\lib\\site-packages\\tensorflow\\python\\framework\\dtypes.py:518: FutureWarning: Passing (type, 1) or '1type' as a synonym of type is deprecated; in a future version of numpy, it will be understood as (type, (1,)) / '(1,)type'.\n",
      "  _np_qint16 = np.dtype([(\"qint16\", np.int16, 1)])\n",
      "C:\\Users\\Pavilion 15 E-019Tx\\anaconda3\\lib\\site-packages\\tensorflow\\python\\framework\\dtypes.py:519: FutureWarning: Passing (type, 1) or '1type' as a synonym of type is deprecated; in a future version of numpy, it will be understood as (type, (1,)) / '(1,)type'.\n",
      "  _np_quint16 = np.dtype([(\"quint16\", np.uint16, 1)])\n",
      "C:\\Users\\Pavilion 15 E-019Tx\\anaconda3\\lib\\site-packages\\tensorflow\\python\\framework\\dtypes.py:520: FutureWarning: Passing (type, 1) or '1type' as a synonym of type is deprecated; in a future version of numpy, it will be understood as (type, (1,)) / '(1,)type'.\n",
      "  _np_qint32 = np.dtype([(\"qint32\", np.int32, 1)])\n",
      "C:\\Users\\Pavilion 15 E-019Tx\\anaconda3\\lib\\site-packages\\tensorflow\\python\\framework\\dtypes.py:525: FutureWarning: Passing (type, 1) or '1type' as a synonym of type is deprecated; in a future version of numpy, it will be understood as (type, (1,)) / '(1,)type'.\n",
      "  np_resource = np.dtype([(\"resource\", np.ubyte, 1)])\n",
      "C:\\Users\\Pavilion 15 E-019Tx\\anaconda3\\lib\\site-packages\\tensorboard\\compat\\tensorflow_stub\\dtypes.py:541: FutureWarning: Passing (type, 1) or '1type' as a synonym of type is deprecated; in a future version of numpy, it will be understood as (type, (1,)) / '(1,)type'.\n",
      "  _np_qint8 = np.dtype([(\"qint8\", np.int8, 1)])\n",
      "C:\\Users\\Pavilion 15 E-019Tx\\anaconda3\\lib\\site-packages\\tensorboard\\compat\\tensorflow_stub\\dtypes.py:542: FutureWarning: Passing (type, 1) or '1type' as a synonym of type is deprecated; in a future version of numpy, it will be understood as (type, (1,)) / '(1,)type'.\n",
      "  _np_quint8 = np.dtype([(\"quint8\", np.uint8, 1)])\n",
      "C:\\Users\\Pavilion 15 E-019Tx\\anaconda3\\lib\\site-packages\\tensorboard\\compat\\tensorflow_stub\\dtypes.py:543: FutureWarning: Passing (type, 1) or '1type' as a synonym of type is deprecated; in a future version of numpy, it will be understood as (type, (1,)) / '(1,)type'.\n",
      "  _np_qint16 = np.dtype([(\"qint16\", np.int16, 1)])\n",
      "C:\\Users\\Pavilion 15 E-019Tx\\anaconda3\\lib\\site-packages\\tensorboard\\compat\\tensorflow_stub\\dtypes.py:544: FutureWarning: Passing (type, 1) or '1type' as a synonym of type is deprecated; in a future version of numpy, it will be understood as (type, (1,)) / '(1,)type'.\n",
      "  _np_quint16 = np.dtype([(\"quint16\", np.uint16, 1)])\n",
      "C:\\Users\\Pavilion 15 E-019Tx\\anaconda3\\lib\\site-packages\\tensorboard\\compat\\tensorflow_stub\\dtypes.py:545: FutureWarning: Passing (type, 1) or '1type' as a synonym of type is deprecated; in a future version of numpy, it will be understood as (type, (1,)) / '(1,)type'.\n",
      "  _np_qint32 = np.dtype([(\"qint32\", np.int32, 1)])\n",
      "C:\\Users\\Pavilion 15 E-019Tx\\anaconda3\\lib\\site-packages\\tensorboard\\compat\\tensorflow_stub\\dtypes.py:550: FutureWarning: Passing (type, 1) or '1type' as a synonym of type is deprecated; in a future version of numpy, it will be understood as (type, (1,)) / '(1,)type'.\n",
      "  np_resource = np.dtype([(\"resource\", np.ubyte, 1)])\n"
     ]
    }
   ],
   "source": [
    "# Part 2 - Building the RNN\n",
    "\n",
    "# Importing the Keras libraries and packages\n",
    "from keras.models import Sequential\n",
    "from keras.layers import Dense\n",
    "from keras.layers import LSTM\n",
    "from keras.layers import Dropout\n",
    "\n"
   ]
  },
  {
   "cell_type": "code",
   "execution_count": 19,
   "metadata": {},
   "outputs": [],
   "source": [
    "# Initialising the RNN\n",
    "regressor = Sequential()\n",
    "\n"
   ]
  },
  {
   "cell_type": "code",
   "execution_count": 20,
   "metadata": {},
   "outputs": [],
   "source": [
    "# Adding the first LSTM layer and some Dropout regularisation\n",
    "regressor.add(LSTM(units = 50, return_sequences = True, input_shape = (X_train.shape[1], 1)))\n",
    "regressor.add(Dropout(0.2))\n",
    "\n",
    "# Adding a second LSTM layer and some Dropout regularisation\n",
    "regressor.add(LSTM(units = 50, return_sequences = True))\n",
    "regressor.add(Dropout(0.2))\n",
    "\n",
    "# Adding a third LSTM layer and some Dropout regularisation\n",
    "regressor.add(LSTM(units = 50, return_sequences = True))\n",
    "regressor.add(Dropout(0.2))\n",
    "\n",
    "# Adding a fourth LSTM layer and some Dropout regularisation\n",
    "regressor.add(LSTM(units = 50))\n",
    "regressor.add(Dropout(0.2))\n",
    "\n",
    "# Adding the output layer\n",
    "regressor.add(Dense(units = 1))\n",
    "\n"
   ]
  },
  {
   "cell_type": "code",
   "execution_count": 21,
   "metadata": {},
   "outputs": [
    {
     "name": "stdout",
     "output_type": "stream",
     "text": [
      "WARNING:tensorflow:From C:\\Users\\Pavilion 15 E-019Tx\\anaconda3\\lib\\site-packages\\keras\\backend\\tensorflow_backend.py:422: The name tf.global_variables is deprecated. Please use tf.compat.v1.global_variables instead.\n",
      "\n",
      "Epoch 1/70\n",
      "3642/3642 [==============================] - 25s 7ms/step - loss: 0.0087\n",
      "Epoch 2/70\n",
      "3642/3642 [==============================] - 22s 6ms/step - loss: 0.0026\n",
      "Epoch 3/70\n",
      "3642/3642 [==============================] - 23s 6ms/step - loss: 0.0020\n",
      "Epoch 4/70\n",
      "3642/3642 [==============================] - 23s 6ms/step - loss: 0.0018\n",
      "Epoch 5/70\n",
      "3642/3642 [==============================] - 23s 6ms/step - loss: 0.0017\n",
      "Epoch 6/70\n",
      "3642/3642 [==============================] - 23s 6ms/step - loss: 0.0018\n",
      "Epoch 7/70\n",
      "3642/3642 [==============================] - 22s 6ms/step - loss: 0.0016\n",
      "Epoch 8/70\n",
      "3642/3642 [==============================] - 23s 6ms/step - loss: 0.0014\n",
      "Epoch 9/70\n",
      "3642/3642 [==============================] - 21s 6ms/step - loss: 0.0015\n",
      "Epoch 10/70\n",
      "3642/3642 [==============================] - 22s 6ms/step - loss: 0.0014\n",
      "Epoch 11/70\n",
      "3642/3642 [==============================] - 22s 6ms/step - loss: 0.0013\n",
      "Epoch 12/70\n",
      "3642/3642 [==============================] - 22s 6ms/step - loss: 0.0013\n",
      "Epoch 13/70\n",
      "3642/3642 [==============================] - 22s 6ms/step - loss: 0.0011\n",
      "Epoch 14/70\n",
      "3642/3642 [==============================] - 24s 7ms/step - loss: 0.0012\n",
      "Epoch 15/70\n",
      "3642/3642 [==============================] - 24s 7ms/step - loss: 0.0012\n",
      "Epoch 16/70\n",
      "3642/3642 [==============================] - 23s 6ms/step - loss: 9.9803e-04\n",
      "Epoch 17/70\n",
      "3642/3642 [==============================] - 23s 6ms/step - loss: 0.0011\n",
      "Epoch 18/70\n",
      "3642/3642 [==============================] - 24s 6ms/step - loss: 9.7193e-04\n",
      "Epoch 19/70\n",
      "3642/3642 [==============================] - 23s 6ms/step - loss: 9.0166e-04\n",
      "Epoch 20/70\n",
      "3642/3642 [==============================] - 23s 6ms/step - loss: 9.8546e-04\n",
      "Epoch 21/70\n",
      "3642/3642 [==============================] - 22s 6ms/step - loss: 8.2477e-04\n",
      "Epoch 22/70\n",
      "3642/3642 [==============================] - 23s 6ms/step - loss: 8.7806e-04\n",
      "Epoch 23/70\n",
      "3642/3642 [==============================] - 23s 6ms/step - loss: 0.0010\n",
      "Epoch 24/70\n",
      "3642/3642 [==============================] - 23s 6ms/step - loss: 9.2609e-04\n",
      "Epoch 25/70\n",
      "3642/3642 [==============================] - 22s 6ms/step - loss: 8.6130e-04\n",
      "Epoch 26/70\n",
      "3642/3642 [==============================] - 24s 7ms/step - loss: 8.6418e-04\n",
      "Epoch 27/70\n",
      "3642/3642 [==============================] - 24s 7ms/step - loss: 8.1328e-04\n",
      "Epoch 28/70\n",
      "3642/3642 [==============================] - 25s 7ms/step - loss: 8.3470e-04\n",
      "Epoch 29/70\n",
      "3642/3642 [==============================] - 24s 7ms/step - loss: 7.7301e-04\n",
      "Epoch 30/70\n",
      "3642/3642 [==============================] - 23s 6ms/step - loss: 8.3196e-04\n",
      "Epoch 31/70\n",
      "3642/3642 [==============================] - 24s 7ms/step - loss: 8.4979e-04\n",
      "Epoch 32/70\n",
      "3642/3642 [==============================] - 24s 7ms/step - loss: 8.7384e-04\n",
      "Epoch 33/70\n",
      "3642/3642 [==============================] - 24s 7ms/step - loss: 7.6946e-04\n",
      "Epoch 34/70\n",
      "3642/3642 [==============================] - 22s 6ms/step - loss: 6.7858e-04\n",
      "Epoch 35/70\n",
      "3642/3642 [==============================] - 21s 6ms/step - loss: 7.4999e-04\n",
      "Epoch 36/70\n",
      "3642/3642 [==============================] - 22s 6ms/step - loss: 8.2381e-04\n",
      "Epoch 37/70\n",
      "3642/3642 [==============================] - 24s 7ms/step - loss: 7.1900e-04\n",
      "Epoch 38/70\n",
      "3642/3642 [==============================] - 22s 6ms/step - loss: 6.6775e-04\n",
      "Epoch 39/70\n",
      "3642/3642 [==============================] - 24s 7ms/step - loss: 7.1355e-04: 1s - loss: 7.\n",
      "Epoch 40/70\n",
      "3642/3642 [==============================] - 23s 6ms/step - loss: 7.0372e-04\n",
      "Epoch 41/70\n",
      "3642/3642 [==============================] - 24s 7ms/step - loss: 7.7794e-04\n",
      "Epoch 42/70\n",
      "3642/3642 [==============================] - 22s 6ms/step - loss: 7.1094e-04\n",
      "Epoch 43/70\n",
      "3642/3642 [==============================] - 27s 7ms/step - loss: 7.6893e-04\n",
      "Epoch 44/70\n",
      "3642/3642 [==============================] - 22s 6ms/step - loss: 7.7722e-04\n",
      "Epoch 45/70\n",
      "3642/3642 [==============================] - 22s 6ms/step - loss: 7.4991e-04\n",
      "Epoch 46/70\n",
      "3642/3642 [==============================] - 22s 6ms/step - loss: 6.8722e-04\n",
      "Epoch 47/70\n",
      "3642/3642 [==============================] - 22s 6ms/step - loss: 6.7420e-04\n",
      "Epoch 48/70\n",
      "3642/3642 [==============================] - 23s 6ms/step - loss: 7.2959e-04\n",
      "Epoch 49/70\n",
      "3642/3642 [==============================] - 23s 6ms/step - loss: 7.7331e-04\n",
      "Epoch 50/70\n",
      "3642/3642 [==============================] - 23s 6ms/step - loss: 6.4584e-04\n",
      "Epoch 51/70\n",
      "3642/3642 [==============================] - 24s 6ms/step - loss: 6.3380e-04\n",
      "Epoch 52/70\n",
      "3642/3642 [==============================] - 25s 7ms/step - loss: 6.4791e-04\n",
      "Epoch 53/70\n",
      "3642/3642 [==============================] - 22s 6ms/step - loss: 6.9112e-04\n",
      "Epoch 54/70\n",
      "3642/3642 [==============================] - 24s 6ms/step - loss: 7.3439e-04\n",
      "Epoch 55/70\n",
      "3642/3642 [==============================] - 24s 7ms/step - loss: 6.9545e-04\n",
      "Epoch 56/70\n",
      "3642/3642 [==============================] - 23s 6ms/step - loss: 6.9351e-04: 2s - loss: 7.0207 - ETA: 2s - loss:\n",
      "Epoch 57/70\n",
      "3642/3642 [==============================] - 23s 6ms/step - loss: 6.0229e-04\n",
      "Epoch 58/70\n",
      "3642/3642 [==============================] - 23s 6ms/step - loss: 6.9888e-04\n",
      "Epoch 59/70\n",
      "3642/3642 [==============================] - 23s 6ms/step - loss: 7.7597e-04\n",
      "Epoch 60/70\n",
      "3642/3642 [==============================] - 23s 6ms/step - loss: 6.6030e-04\n",
      "Epoch 61/70\n",
      "3642/3642 [==============================] - 23s 6ms/step - loss: 7.3939e-04\n",
      "Epoch 62/70\n",
      "3642/3642 [==============================] - 22s 6ms/step - loss: 6.7172e-04\n",
      "Epoch 63/70\n",
      "3642/3642 [==============================] - 24s 7ms/step - loss: 6.4248e-04\n",
      "Epoch 64/70\n",
      "3642/3642 [==============================] - 24s 7ms/step - loss: 5.8640e-04\n",
      "Epoch 65/70\n",
      "3642/3642 [==============================] - 22s 6ms/step - loss: 6.7825e-04\n",
      "Epoch 66/70\n",
      "3642/3642 [==============================] - 24s 7ms/step - loss: 6.3805e-04\n",
      "Epoch 67/70\n",
      "3642/3642 [==============================] - 24s 7ms/step - loss: 6.0835e-04\n",
      "Epoch 68/70\n",
      "3642/3642 [==============================] - 26s 7ms/step - loss: 6.5319e-04\n",
      "Epoch 69/70\n",
      "3642/3642 [==============================] - 21s 6ms/step - loss: 5.9296e-04\n",
      "Epoch 70/70\n",
      "3642/3642 [==============================] - 23s 6ms/step - loss: 6.0657e-04\n"
     ]
    },
    {
     "data": {
      "text/plain": [
       "<keras.callbacks.callbacks.History at 0x1b30c3f4c88>"
      ]
     },
     "execution_count": 21,
     "metadata": {},
     "output_type": "execute_result"
    }
   ],
   "source": [
    "# Compiling the RNN\n",
    "regressor.compile(optimizer = 'adam', loss = 'mean_squared_error')\n",
    "\n",
    "# Fitting the RNN to the Training set\n",
    "regressor.fit(X_train, y_train, epochs = 70, batch_size = 32)\n"
   ]
  },
  {
   "cell_type": "code",
   "execution_count": 22,
   "metadata": {},
   "outputs": [],
   "source": [
    "# Part 3 - Making the predictions and visualising the results\n",
    "\n",
    "# Getting the real stock price of 2017\n",
    "dataset_test = pd.read_csv('F:/Innovation_Lab/PYTHON/HEXAWARE_Test_2017-2019.csv',index_col=\"Date\",parse_dates=True)\n",
    "\n"
   ]
  },
  {
   "cell_type": "code",
   "execution_count": 23,
   "metadata": {},
   "outputs": [],
   "source": [
    "real_stock_price = dataset_test.iloc[:, 1:2].values"
   ]
  },
  {
   "cell_type": "code",
   "execution_count": 24,
   "metadata": {},
   "outputs": [
    {
     "data": {
      "text/html": [
       "<div>\n",
       "<style scoped>\n",
       "    .dataframe tbody tr th:only-of-type {\n",
       "        vertical-align: middle;\n",
       "    }\n",
       "\n",
       "    .dataframe tbody tr th {\n",
       "        vertical-align: top;\n",
       "    }\n",
       "\n",
       "    .dataframe thead th {\n",
       "        text-align: right;\n",
       "    }\n",
       "</style>\n",
       "<table border=\"1\" class=\"dataframe\">\n",
       "  <thead>\n",
       "    <tr style=\"text-align: right;\">\n",
       "      <th></th>\n",
       "      <th>Open</th>\n",
       "      <th>High</th>\n",
       "      <th>Low</th>\n",
       "      <th>Close</th>\n",
       "      <th>Adj Close</th>\n",
       "      <th>Volume</th>\n",
       "    </tr>\n",
       "    <tr>\n",
       "      <th>Date</th>\n",
       "      <th></th>\n",
       "      <th></th>\n",
       "      <th></th>\n",
       "      <th></th>\n",
       "      <th></th>\n",
       "      <th></th>\n",
       "    </tr>\n",
       "  </thead>\n",
       "  <tbody>\n",
       "    <tr>\n",
       "      <th>2017-07-03</th>\n",
       "      <td>241.550003</td>\n",
       "      <td>244.000000</td>\n",
       "      <td>237.750000</td>\n",
       "      <td>240.000000</td>\n",
       "      <td>223.711594</td>\n",
       "      <td>713379.0</td>\n",
       "    </tr>\n",
       "    <tr>\n",
       "      <th>2017-07-04</th>\n",
       "      <td>239.500000</td>\n",
       "      <td>244.600006</td>\n",
       "      <td>237.050003</td>\n",
       "      <td>241.600006</td>\n",
       "      <td>225.203003</td>\n",
       "      <td>774504.0</td>\n",
       "    </tr>\n",
       "    <tr>\n",
       "      <th>2017-07-05</th>\n",
       "      <td>242.000000</td>\n",
       "      <td>244.199997</td>\n",
       "      <td>239.300003</td>\n",
       "      <td>240.399994</td>\n",
       "      <td>224.084442</td>\n",
       "      <td>492190.0</td>\n",
       "    </tr>\n",
       "    <tr>\n",
       "      <th>2017-07-06</th>\n",
       "      <td>240.850006</td>\n",
       "      <td>242.750000</td>\n",
       "      <td>238.550003</td>\n",
       "      <td>239.949997</td>\n",
       "      <td>223.664993</td>\n",
       "      <td>363321.0</td>\n",
       "    </tr>\n",
       "    <tr>\n",
       "      <th>2017-07-07</th>\n",
       "      <td>240.199997</td>\n",
       "      <td>243.000000</td>\n",
       "      <td>236.000000</td>\n",
       "      <td>237.850006</td>\n",
       "      <td>221.707520</td>\n",
       "      <td>371320.0</td>\n",
       "    </tr>\n",
       "  </tbody>\n",
       "</table>\n",
       "</div>"
      ],
      "text/plain": [
       "                  Open        High         Low       Close   Adj Close  \\\n",
       "Date                                                                     \n",
       "2017-07-03  241.550003  244.000000  237.750000  240.000000  223.711594   \n",
       "2017-07-04  239.500000  244.600006  237.050003  241.600006  225.203003   \n",
       "2017-07-05  242.000000  244.199997  239.300003  240.399994  224.084442   \n",
       "2017-07-06  240.850006  242.750000  238.550003  239.949997  223.664993   \n",
       "2017-07-07  240.199997  243.000000  236.000000  237.850006  221.707520   \n",
       "\n",
       "              Volume  \n",
       "Date                  \n",
       "2017-07-03  713379.0  \n",
       "2017-07-04  774504.0  \n",
       "2017-07-05  492190.0  \n",
       "2017-07-06  363321.0  \n",
       "2017-07-07  371320.0  "
      ]
     },
     "execution_count": 24,
     "metadata": {},
     "output_type": "execute_result"
    }
   ],
   "source": [
    "dataset_test.head()"
   ]
  },
  {
   "cell_type": "code",
   "execution_count": 25,
   "metadata": {},
   "outputs": [
    {
     "name": "stdout",
     "output_type": "stream",
     "text": [
      "<class 'pandas.core.frame.DataFrame'>\n",
      "DatetimeIndex: 734 entries, 2017-07-03 to 2020-06-26\n",
      "Data columns (total 6 columns):\n",
      " #   Column     Non-Null Count  Dtype  \n",
      "---  ------     --------------  -----  \n",
      " 0   Open       733 non-null    float64\n",
      " 1   High       733 non-null    float64\n",
      " 2   Low        733 non-null    float64\n",
      " 3   Close      733 non-null    float64\n",
      " 4   Adj Close  733 non-null    float64\n",
      " 5   Volume     733 non-null    float64\n",
      "dtypes: float64(6)\n",
      "memory usage: 40.1 KB\n"
     ]
    }
   ],
   "source": [
    "dataset_test.info()"
   ]
  },
  {
   "cell_type": "code",
   "execution_count": 26,
   "metadata": {},
   "outputs": [],
   "source": [
    "dataset_test = dataset_test.replace(to_replace='null', value=np.nan).dropna()"
   ]
  },
  {
   "cell_type": "code",
   "execution_count": null,
   "metadata": {},
   "outputs": [],
   "source": []
  },
  {
   "cell_type": "code",
   "execution_count": 27,
   "metadata": {},
   "outputs": [],
   "source": [
    "#dataset_test[\"Volume\"] = dataset_test[\"Volume\"].str.replace(',', '').astype(float)"
   ]
  },
  {
   "cell_type": "code",
   "execution_count": 28,
   "metadata": {},
   "outputs": [],
   "source": [
    "test_set=dataset_test['Open']\n",
    "test_set=pd.DataFrame(test_set)"
   ]
  },
  {
   "cell_type": "code",
   "execution_count": 29,
   "metadata": {},
   "outputs": [
    {
     "name": "stdout",
     "output_type": "stream",
     "text": [
      "<class 'pandas.core.frame.DataFrame'>\n",
      "DatetimeIndex: 733 entries, 2017-07-03 to 2020-06-26\n",
      "Data columns (total 1 columns):\n",
      " #   Column  Non-Null Count  Dtype  \n",
      "---  ------  --------------  -----  \n",
      " 0   Open    733 non-null    float64\n",
      "dtypes: float64(1)\n",
      "memory usage: 11.5 KB\n"
     ]
    }
   ],
   "source": [
    "test_set.info()"
   ]
  },
  {
   "cell_type": "code",
   "execution_count": 36,
   "metadata": {},
   "outputs": [],
   "source": [
    "# Getting the predicted stock price of 2007-2009\n",
    "dataset_total = pd.concat((dataset['Open'], dataset_test['Open']), axis = 0)\n",
    "inputs = dataset_total[len(dataset_total) - len(dataset_test) - 60:].values\n",
    "inputs = inputs.reshape(-1,1)\n",
    "inputs = sc.transform(inputs)\n",
    "X_test = []\n",
    "for i in range(60, 793):\n",
    "    X_test.append(inputs[i-60:i, 0])\n",
    "X_test = np.array(X_test)\n",
    "X_test = np.reshape(X_test, (X_test.shape[0], X_test.shape[1], 1))\n",
    "predicted_stock_price = regressor.predict(X_test)\n",
    "predicted_stock_price = sc.inverse_transform(predicted_stock_price)"
   ]
  },
  {
   "cell_type": "code",
   "execution_count": 37,
   "metadata": {},
   "outputs": [
    {
     "name": "stdout",
     "output_type": "stream",
     "text": [
      "<class 'pandas.core.frame.DataFrame'>\n",
      "RangeIndex: 733 entries, 0 to 732\n",
      "Data columns (total 1 columns):\n",
      " #   Column  Non-Null Count  Dtype  \n",
      "---  ------  --------------  -----  \n",
      " 0   0       733 non-null    float32\n",
      "dtypes: float32(1)\n",
      "memory usage: 3.0 KB\n"
     ]
    }
   ],
   "source": [
    "predicted_stock_price=pd.DataFrame(predicted_stock_price)\n",
    "predicted_stock_price.info()"
   ]
  },
  {
   "cell_type": "code",
   "execution_count": 40,
   "metadata": {},
   "outputs": [
    {
     "data": {
      "image/png": "[encoded data removed]",
      "text/plain": [
       "<Figure size 432x288 with 1 Axes>"
      ]
     },
     "metadata": {
      "needs_background": "light"
     },
     "output_type": "display_data"
    }
   ],
   "source": [
    "\n",
    "# Visualising the results\n",
    "plt.plot(real_stock_price, color = 'red', label = 'Real Hexaware Stock Price')\n",
    "plt.plot(predicted_stock_price, color = 'blue', label = 'Predicted Hexaware Stock Price')\n",
    "plt.title('Hexaware Stock Price Prediction 2017-2020')\n",
    "plt.xlabel('Days')\n",
    "plt.ylabel('Hexaware Stock Price')\n",
    "plt.legend()\n",
    "plt.show()\n"
   ]
  },
  {
   "cell_type": "code",
   "execution_count": null,
   "metadata": {},
   "outputs": [],
   "source": []
  },
  {
   "cell_type": "code",
   "execution_count": null,
   "metadata": {},
   "outputs": [],
   "source": []
  },
  {
   "cell_type": "code",
   "execution_count": null,
   "metadata": {},
   "outputs": [],
   "source": []
  }
 ],
 "metadata": {
  "kernelspec": {
   "display_name": "Python 3",
   "language": "python",
   "name": "python3"
  },
  "language_info": {
   "codemirror_mode": {
    "name": "ipython",
    "version": 3
   },
   "file_extension": ".py",
   "mimetype": "text/x-python",
   "name": "python",
   "nbconvert_exporter": "python",
   "pygments_lexer": "ipython3",
   "version": "3.7.6"
  }
 },
 "nbformat": 4,
 "nbformat_minor": 2
}
