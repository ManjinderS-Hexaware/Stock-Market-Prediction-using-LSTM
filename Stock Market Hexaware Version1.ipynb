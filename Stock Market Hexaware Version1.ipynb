{
 "cells": [
  {
   "cell_type": "code",
   "execution_count": 1,
   "metadata": {},
   "outputs": [],
   "source": [
    "# Importing the libraries\n",
    "import numpy as np\n",
    "import matplotlib.pyplot as plt\n",
    "import pandas as pd\n",
    "import datetime"
   ]
  },
  {
   "cell_type": "code",
   "execution_count": 4,
   "metadata": {},
   "outputs": [],
   "source": [
    "dataset = pd.read_csv('F:/Innovation_Lab/PYTHON/HEXAWARE_Train_2002-2007.csv',index_col=\"Date\",parse_dates=True)\n"
   ]
  },
  {
   "cell_type": "code",
   "execution_count": 35,
   "metadata": {},
   "outputs": [
    {
     "data": {
      "text/html": [
       "<div>\n",
       "<style scoped>\n",
       "    .dataframe tbody tr th:only-of-type {\n",
       "        vertical-align: middle;\n",
       "    }\n",
       "\n",
       "    .dataframe tbody tr th {\n",
       "        vertical-align: top;\n",
       "    }\n",
       "\n",
       "    .dataframe thead th {\n",
       "        text-align: right;\n",
       "    }\n",
       "</style>\n",
       "<table border=\"1\" class=\"dataframe\">\n",
       "  <thead>\n",
       "    <tr style=\"text-align: right;\">\n",
       "      <th></th>\n",
       "      <th>Open</th>\n",
       "      <th>High</th>\n",
       "      <th>Low</th>\n",
       "      <th>Close</th>\n",
       "      <th>Adj Close</th>\n",
       "      <th>Volume</th>\n",
       "      <th>Close: 30 Day Mean</th>\n",
       "    </tr>\n",
       "    <tr>\n",
       "      <th>Date</th>\n",
       "      <th></th>\n",
       "      <th></th>\n",
       "      <th></th>\n",
       "      <th></th>\n",
       "      <th></th>\n",
       "      <th></th>\n",
       "      <th></th>\n",
       "    </tr>\n",
       "  </thead>\n",
       "  <tbody>\n",
       "    <tr>\n",
       "      <th>2002-07-01</th>\n",
       "      <td>3.3900</td>\n",
       "      <td>3.4450</td>\n",
       "      <td>3.3325</td>\n",
       "      <td>3.3650</td>\n",
       "      <td>1.508718</td>\n",
       "      <td>39134.0</td>\n",
       "      <td>NaN</td>\n",
       "    </tr>\n",
       "    <tr>\n",
       "      <th>2002-07-02</th>\n",
       "      <td>3.3100</td>\n",
       "      <td>3.3425</td>\n",
       "      <td>3.2250</td>\n",
       "      <td>3.2575</td>\n",
       "      <td>1.460520</td>\n",
       "      <td>41330.0</td>\n",
       "      <td>NaN</td>\n",
       "    </tr>\n",
       "    <tr>\n",
       "      <th>2002-07-03</th>\n",
       "      <td>3.2550</td>\n",
       "      <td>3.4000</td>\n",
       "      <td>3.2550</td>\n",
       "      <td>3.3800</td>\n",
       "      <td>1.515444</td>\n",
       "      <td>81812.0</td>\n",
       "      <td>NaN</td>\n",
       "    </tr>\n",
       "    <tr>\n",
       "      <th>2002-07-04</th>\n",
       "      <td>3.4000</td>\n",
       "      <td>3.5250</td>\n",
       "      <td>3.3050</td>\n",
       "      <td>3.3400</td>\n",
       "      <td>1.497510</td>\n",
       "      <td>101884.0</td>\n",
       "      <td>NaN</td>\n",
       "    </tr>\n",
       "    <tr>\n",
       "      <th>2002-07-05</th>\n",
       "      <td>3.3975</td>\n",
       "      <td>3.3975</td>\n",
       "      <td>3.2650</td>\n",
       "      <td>3.2825</td>\n",
       "      <td>1.471729</td>\n",
       "      <td>32594.0</td>\n",
       "      <td>NaN</td>\n",
       "    </tr>\n",
       "  </tbody>\n",
       "</table>\n",
       "</div>"
      ],
      "text/plain": [
       "              Open    High     Low   Close  Adj Close    Volume  \\\n",
       "Date                                                              \n",
       "2002-07-01  3.3900  3.4450  3.3325  3.3650   1.508718   39134.0   \n",
       "2002-07-02  3.3100  3.3425  3.2250  3.2575   1.460520   41330.0   \n",
       "2002-07-03  3.2550  3.4000  3.2550  3.3800   1.515444   81812.0   \n",
       "2002-07-04  3.4000  3.5250  3.3050  3.3400   1.497510  101884.0   \n",
       "2002-07-05  3.3975  3.3975  3.2650  3.2825   1.471729   32594.0   \n",
       "\n",
       "            Close: 30 Day Mean  \n",
       "Date                            \n",
       "2002-07-01                 NaN  \n",
       "2002-07-02                 NaN  \n",
       "2002-07-03                 NaN  \n",
       "2002-07-04                 NaN  \n",
       "2002-07-05                 NaN  "
      ]
     },
     "execution_count": 35,
     "metadata": {},
     "output_type": "execute_result"
    }
   ],
   "source": [
    "dataset.head()\n"
   ]
  },
  {
   "cell_type": "code",
   "execution_count": 6,
   "metadata": {},
   "outputs": [
    {
     "data": {
      "text/plain": [
       "Open         True\n",
       "High         True\n",
       "Low          True\n",
       "Close        True\n",
       "Adj Close    True\n",
       "Volume       True\n",
       "dtype: bool"
      ]
     },
     "execution_count": 6,
     "metadata": {},
     "output_type": "execute_result"
    }
   ],
   "source": [
    "dataset.isna().any()"
   ]
  },
  {
   "cell_type": "code",
   "execution_count": 36,
   "metadata": {},
   "outputs": [],
   "source": [
    "dataset = dataset.replace(to_replace='null', value=np.nan).dropna()"
   ]
  },
  {
   "cell_type": "code",
   "execution_count": 37,
   "metadata": {},
   "outputs": [
    {
     "data": {
      "text/plain": [
       "Open                  False\n",
       "High                  False\n",
       "Low                   False\n",
       "Close                 False\n",
       "Adj Close             False\n",
       "Volume                False\n",
       "Close: 30 Day Mean    False\n",
       "dtype: bool"
      ]
     },
     "execution_count": 37,
     "metadata": {},
     "output_type": "execute_result"
    }
   ],
   "source": [
    "dataset.isna().any()"
   ]
  },
  {
   "cell_type": "code",
   "execution_count": 38,
   "metadata": {},
   "outputs": [
    {
     "name": "stdout",
     "output_type": "stream",
     "text": [
      "<class 'pandas.core.frame.DataFrame'>\n",
      "DatetimeIndex: 716 entries, 2002-08-09 to 2007-06-29\n",
      "Data columns (total 7 columns):\n",
      " #   Column              Non-Null Count  Dtype  \n",
      "---  ------              --------------  -----  \n",
      " 0   Open                716 non-null    float64\n",
      " 1   High                716 non-null    float64\n",
      " 2   Low                 716 non-null    float64\n",
      " 3   Close               716 non-null    float64\n",
      " 4   Adj Close           716 non-null    float64\n",
      " 5   Volume              716 non-null    float64\n",
      " 6   Close: 30 Day Mean  716 non-null    float64\n",
      "dtypes: float64(7)\n",
      "memory usage: 44.8 KB\n"
     ]
    }
   ],
   "source": [
    "dataset.info()"
   ]
  },
  {
   "cell_type": "code",
   "execution_count": 39,
   "metadata": {},
   "outputs": [
    {
     "data": {
      "text/plain": [
       "<matplotlib.axes._subplots.AxesSubplot at 0x2b42367a108>"
      ]
     },
     "execution_count": 39,
     "metadata": {},
     "output_type": "execute_result"
    },
    {
     "data": {
      "image/png": "[encoded data removed]",
      "text/plain": [
       "<Figure size 1152x432 with 1 Axes>"
      ]
     },
     "metadata": {
      "needs_background": "light"
     },
     "output_type": "display_data"
    }
   ],
   "source": [
    "dataset['Open'].plot(figsize=(16,6))"
   ]
  },
  {
   "cell_type": "code",
   "execution_count": 40,
   "metadata": {},
   "outputs": [],
   "source": [
    "# convert column \"a\" of a DataFrame\n",
    "#dataset[\"Close\"] = dataset[\"Close\"].str.replace(',', '').astype(float)\n"
   ]
  },
  {
   "cell_type": "code",
   "execution_count": 41,
   "metadata": {},
   "outputs": [],
   "source": [
    "#dataset[\"Volume\"] = dataset[\"Volume\"].str.replace(',', '').astype(float)"
   ]
  },
  {
   "cell_type": "code",
   "execution_count": 42,
   "metadata": {},
   "outputs": [
    {
     "data": {
      "text/html": [
       "<div>\n",
       "<style scoped>\n",
       "    .dataframe tbody tr th:only-of-type {\n",
       "        vertical-align: middle;\n",
       "    }\n",
       "\n",
       "    .dataframe tbody tr th {\n",
       "        vertical-align: top;\n",
       "    }\n",
       "\n",
       "    .dataframe thead th {\n",
       "        text-align: right;\n",
       "    }\n",
       "</style>\n",
       "<table border=\"1\" class=\"dataframe\">\n",
       "  <thead>\n",
       "    <tr style=\"text-align: right;\">\n",
       "      <th></th>\n",
       "      <th>Open</th>\n",
       "      <th>High</th>\n",
       "      <th>Low</th>\n",
       "      <th>Close</th>\n",
       "      <th>Adj Close</th>\n",
       "      <th>Volume</th>\n",
       "      <th>Close: 30 Day Mean</th>\n",
       "    </tr>\n",
       "    <tr>\n",
       "      <th>Date</th>\n",
       "      <th></th>\n",
       "      <th></th>\n",
       "      <th></th>\n",
       "      <th></th>\n",
       "      <th></th>\n",
       "      <th></th>\n",
       "      <th></th>\n",
       "    </tr>\n",
       "  </thead>\n",
       "  <tbody>\n",
       "    <tr>\n",
       "      <th>2002-08-09</th>\n",
       "      <td>NaN</td>\n",
       "      <td>NaN</td>\n",
       "      <td>NaN</td>\n",
       "      <td>NaN</td>\n",
       "      <td>NaN</td>\n",
       "      <td>NaN</td>\n",
       "      <td>NaN</td>\n",
       "    </tr>\n",
       "    <tr>\n",
       "      <th>2002-08-12</th>\n",
       "      <td>NaN</td>\n",
       "      <td>NaN</td>\n",
       "      <td>NaN</td>\n",
       "      <td>NaN</td>\n",
       "      <td>NaN</td>\n",
       "      <td>NaN</td>\n",
       "      <td>NaN</td>\n",
       "    </tr>\n",
       "    <tr>\n",
       "      <th>2002-08-13</th>\n",
       "      <td>NaN</td>\n",
       "      <td>NaN</td>\n",
       "      <td>NaN</td>\n",
       "      <td>NaN</td>\n",
       "      <td>NaN</td>\n",
       "      <td>NaN</td>\n",
       "      <td>NaN</td>\n",
       "    </tr>\n",
       "    <tr>\n",
       "      <th>2002-08-14</th>\n",
       "      <td>NaN</td>\n",
       "      <td>NaN</td>\n",
       "      <td>NaN</td>\n",
       "      <td>NaN</td>\n",
       "      <td>NaN</td>\n",
       "      <td>NaN</td>\n",
       "      <td>NaN</td>\n",
       "    </tr>\n",
       "    <tr>\n",
       "      <th>2003-02-05</th>\n",
       "      <td>NaN</td>\n",
       "      <td>NaN</td>\n",
       "      <td>NaN</td>\n",
       "      <td>NaN</td>\n",
       "      <td>NaN</td>\n",
       "      <td>NaN</td>\n",
       "      <td>NaN</td>\n",
       "    </tr>\n",
       "    <tr>\n",
       "      <th>2003-02-06</th>\n",
       "      <td>NaN</td>\n",
       "      <td>NaN</td>\n",
       "      <td>NaN</td>\n",
       "      <td>NaN</td>\n",
       "      <td>NaN</td>\n",
       "      <td>NaN</td>\n",
       "      <td>NaN</td>\n",
       "    </tr>\n",
       "    <tr>\n",
       "      <th>2003-02-07</th>\n",
       "      <td>4.270000</td>\n",
       "      <td>4.339643</td>\n",
       "      <td>4.136429</td>\n",
       "      <td>4.229643</td>\n",
       "      <td>1.896386</td>\n",
       "      <td>6.619359e+06</td>\n",
       "      <td>4.377000</td>\n",
       "    </tr>\n",
       "    <tr>\n",
       "      <th>2003-02-10</th>\n",
       "      <td>4.927857</td>\n",
       "      <td>4.998214</td>\n",
       "      <td>4.726071</td>\n",
       "      <td>4.826429</td>\n",
       "      <td>2.163959</td>\n",
       "      <td>9.383614e+06</td>\n",
       "      <td>4.956881</td>\n",
       "    </tr>\n",
       "    <tr>\n",
       "      <th>2003-02-11</th>\n",
       "      <td>5.531429</td>\n",
       "      <td>5.621786</td>\n",
       "      <td>5.308929</td>\n",
       "      <td>5.416786</td>\n",
       "      <td>2.428649</td>\n",
       "      <td>1.244035e+07</td>\n",
       "      <td>5.544619</td>\n",
       "    </tr>\n",
       "    <tr>\n",
       "      <th>2003-02-12</th>\n",
       "      <td>6.137143</td>\n",
       "      <td>6.228929</td>\n",
       "      <td>5.888929</td>\n",
       "      <td>6.016071</td>\n",
       "      <td>2.697342</td>\n",
       "      <td>1.478965e+07</td>\n",
       "      <td>6.139750</td>\n",
       "    </tr>\n",
       "    <tr>\n",
       "      <th>2003-06-12</th>\n",
       "      <td>6.590000</td>\n",
       "      <td>6.697857</td>\n",
       "      <td>6.349286</td>\n",
       "      <td>6.486429</td>\n",
       "      <td>2.908230</td>\n",
       "      <td>1.513696e+07</td>\n",
       "      <td>6.533810</td>\n",
       "    </tr>\n",
       "    <tr>\n",
       "      <th>2003-06-13</th>\n",
       "      <td>6.373929</td>\n",
       "      <td>6.494643</td>\n",
       "      <td>6.171429</td>\n",
       "      <td>6.286786</td>\n",
       "      <td>2.818719</td>\n",
       "      <td>1.346648e+07</td>\n",
       "      <td>6.347060</td>\n",
       "    </tr>\n",
       "    <tr>\n",
       "      <th>2003-06-16</th>\n",
       "      <td>6.160357</td>\n",
       "      <td>6.242857</td>\n",
       "      <td>5.954643</td>\n",
       "      <td>6.028571</td>\n",
       "      <td>2.702947</td>\n",
       "      <td>1.129478e+07</td>\n",
       "      <td>6.155512</td>\n",
       "    </tr>\n",
       "    <tr>\n",
       "      <th>2003-06-17</th>\n",
       "      <td>5.902857</td>\n",
       "      <td>6.025000</td>\n",
       "      <td>5.741429</td>\n",
       "      <td>5.841071</td>\n",
       "      <td>2.618880</td>\n",
       "      <td>9.802320e+06</td>\n",
       "      <td>5.960738</td>\n",
       "    </tr>\n",
       "    <tr>\n",
       "      <th>2003-06-18</th>\n",
       "      <td>5.717143</td>\n",
       "      <td>5.908929</td>\n",
       "      <td>5.646429</td>\n",
       "      <td>5.787500</td>\n",
       "      <td>2.594861</td>\n",
       "      <td>8.413143e+06</td>\n",
       "      <td>5.767655</td>\n",
       "    </tr>\n",
       "    <tr>\n",
       "      <th>2003-06-19</th>\n",
       "      <td>5.657143</td>\n",
       "      <td>5.838214</td>\n",
       "      <td>5.576429</td>\n",
       "      <td>5.725714</td>\n",
       "      <td>2.567159</td>\n",
       "      <td>6.000903e+06</td>\n",
       "      <td>5.576345</td>\n",
       "    </tr>\n",
       "    <tr>\n",
       "      <th>2003-06-20</th>\n",
       "      <td>5.555000</td>\n",
       "      <td>5.766786</td>\n",
       "      <td>5.497143</td>\n",
       "      <td>5.653214</td>\n",
       "      <td>2.534653</td>\n",
       "      <td>4.043038e+06</td>\n",
       "      <td>5.386976</td>\n",
       "    </tr>\n",
       "    <tr>\n",
       "      <th>2003-06-23</th>\n",
       "      <td>5.638929</td>\n",
       "      <td>5.852500</td>\n",
       "      <td>5.560357</td>\n",
       "      <td>5.738929</td>\n",
       "      <td>2.573083</td>\n",
       "      <td>4.460654e+06</td>\n",
       "      <td>5.409917</td>\n",
       "    </tr>\n",
       "    <tr>\n",
       "      <th>2003-06-24</th>\n",
       "      <td>5.709643</td>\n",
       "      <td>5.911429</td>\n",
       "      <td>5.628571</td>\n",
       "      <td>5.816786</td>\n",
       "      <td>2.607991</td>\n",
       "      <td>4.422135e+06</td>\n",
       "      <td>5.434857</td>\n",
       "    </tr>\n",
       "    <tr>\n",
       "      <th>2003-06-25</th>\n",
       "      <td>5.808929</td>\n",
       "      <td>6.012857</td>\n",
       "      <td>5.726786</td>\n",
       "      <td>5.918571</td>\n",
       "      <td>2.653627</td>\n",
       "      <td>4.593142e+06</td>\n",
       "      <td>5.461893</td>\n",
       "    </tr>\n",
       "  </tbody>\n",
       "</table>\n",
       "</div>"
      ],
      "text/plain": [
       "                Open      High       Low     Close  Adj Close        Volume  \\\n",
       "Date                                                                          \n",
       "2002-08-09       NaN       NaN       NaN       NaN        NaN           NaN   \n",
       "2002-08-12       NaN       NaN       NaN       NaN        NaN           NaN   \n",
       "2002-08-13       NaN       NaN       NaN       NaN        NaN           NaN   \n",
       "2002-08-14       NaN       NaN       NaN       NaN        NaN           NaN   \n",
       "2003-02-05       NaN       NaN       NaN       NaN        NaN           NaN   \n",
       "2003-02-06       NaN       NaN       NaN       NaN        NaN           NaN   \n",
       "2003-02-07  4.270000  4.339643  4.136429  4.229643   1.896386  6.619359e+06   \n",
       "2003-02-10  4.927857  4.998214  4.726071  4.826429   2.163959  9.383614e+06   \n",
       "2003-02-11  5.531429  5.621786  5.308929  5.416786   2.428649  1.244035e+07   \n",
       "2003-02-12  6.137143  6.228929  5.888929  6.016071   2.697342  1.478965e+07   \n",
       "2003-06-12  6.590000  6.697857  6.349286  6.486429   2.908230  1.513696e+07   \n",
       "2003-06-13  6.373929  6.494643  6.171429  6.286786   2.818719  1.346648e+07   \n",
       "2003-06-16  6.160357  6.242857  5.954643  6.028571   2.702947  1.129478e+07   \n",
       "2003-06-17  5.902857  6.025000  5.741429  5.841071   2.618880  9.802320e+06   \n",
       "2003-06-18  5.717143  5.908929  5.646429  5.787500   2.594861  8.413143e+06   \n",
       "2003-06-19  5.657143  5.838214  5.576429  5.725714   2.567159  6.000903e+06   \n",
       "2003-06-20  5.555000  5.766786  5.497143  5.653214   2.534653  4.043038e+06   \n",
       "2003-06-23  5.638929  5.852500  5.560357  5.738929   2.573083  4.460654e+06   \n",
       "2003-06-24  5.709643  5.911429  5.628571  5.816786   2.607991  4.422135e+06   \n",
       "2003-06-25  5.808929  6.012857  5.726786  5.918571   2.653627  4.593142e+06   \n",
       "\n",
       "            Close: 30 Day Mean  \n",
       "Date                            \n",
       "2002-08-09                 NaN  \n",
       "2002-08-12                 NaN  \n",
       "2002-08-13                 NaN  \n",
       "2002-08-14                 NaN  \n",
       "2003-02-05                 NaN  \n",
       "2003-02-06                 NaN  \n",
       "2003-02-07            4.377000  \n",
       "2003-02-10            4.956881  \n",
       "2003-02-11            5.544619  \n",
       "2003-02-12            6.139750  \n",
       "2003-06-12            6.533810  \n",
       "2003-06-13            6.347060  \n",
       "2003-06-16            6.155512  \n",
       "2003-06-17            5.960738  \n",
       "2003-06-18            5.767655  \n",
       "2003-06-19            5.576345  \n",
       "2003-06-20            5.386976  \n",
       "2003-06-23            5.409917  \n",
       "2003-06-24            5.434857  \n",
       "2003-06-25            5.461893  "
      ]
     },
     "execution_count": 42,
     "metadata": {},
     "output_type": "execute_result"
    }
   ],
   "source": [
    "# 7 day rolling mean\n",
    "dataset.rolling(7).mean().head(20)"
   ]
  },
  {
   "cell_type": "code",
   "execution_count": 43,
   "metadata": {},
   "outputs": [
    {
     "data": {
      "text/plain": [
       "<matplotlib.axes._subplots.AxesSubplot at 0x2b4238e4f88>"
      ]
     },
     "execution_count": 43,
     "metadata": {},
     "output_type": "execute_result"
    },
    {
     "data": {
      "image/png": "[encoded data removed]",
      "text/plain": [
       "<Figure size 1152x432 with 1 Axes>"
      ]
     },
     "metadata": {
      "needs_background": "light"
     },
     "output_type": "display_data"
    }
   ],
   "source": [
    "dataset['Open'].plot(figsize=(16,6))\n",
    "dataset.rolling(window=30).mean()['Close'].plot()"
   ]
  },
  {
   "cell_type": "code",
   "execution_count": 44,
   "metadata": {},
   "outputs": [
    {
     "data": {
      "text/plain": [
       "<matplotlib.axes._subplots.AxesSubplot at 0x2b4236d19c8>"
      ]
     },
     "execution_count": 44,
     "metadata": {},
     "output_type": "execute_result"
    },
    {
     "data": {
      "image/png": "[encoded data removed]",
      "text/plain": [
       "<Figure size 1152x432 with 1 Axes>"
      ]
     },
     "metadata": {
      "needs_background": "light"
     },
     "output_type": "display_data"
    }
   ],
   "source": [
    "dataset['Close: 30 Day Mean'] = dataset['Close'].rolling(window=30).mean()\n",
    "dataset[['Close','Close: 30 Day Mean']].plot(figsize=(16,6))"
   ]
  },
  {
   "cell_type": "code",
   "execution_count": 45,
   "metadata": {},
   "outputs": [
    {
     "data": {
      "text/plain": [
       "<matplotlib.axes._subplots.AxesSubplot at 0x2b423a89e48>"
      ]
     },
     "execution_count": 45,
     "metadata": {},
     "output_type": "execute_result"
    },
    {
     "data": {
      "image/png": "[encoded data removed]",
      "text/plain": [
       "<Figure size 1152x432 with 1 Axes>"
      ]
     },
     "metadata": {
      "needs_background": "light"
     },
     "output_type": "display_data"
    }
   ],
   "source": [
    "# Optional specify a minimum number of periods\n",
    "dataset['Close'].expanding(min_periods=1).mean().plot(figsize=(16,6))"
   ]
  },
  {
   "cell_type": "code",
   "execution_count": 46,
   "metadata": {},
   "outputs": [],
   "source": [
    "training_set=dataset['Open']\n",
    "training_set=pd.DataFrame(training_set)\n"
   ]
  },
  {
   "cell_type": "code",
   "execution_count": 47,
   "metadata": {},
   "outputs": [],
   "source": [
    "# Feature Scaling\n",
    "from sklearn.preprocessing import MinMaxScaler\n",
    "sc = MinMaxScaler(feature_range = (0, 1))\n",
    "training_set_scaled = sc.fit_transform(training_set)"
   ]
  },
  {
   "cell_type": "code",
   "execution_count": 49,
   "metadata": {},
   "outputs": [],
   "source": [
    "# Creating a data structure with 60 timesteps and 1 output\n",
    "X_train = []\n",
    "y_train = []\n",
    "for i in range(60, 716):\n",
    "    X_train.append(training_set_scaled[i-60:i, 0])\n",
    "    y_train.append(training_set_scaled[i, 0])\n",
    "X_train, y_train = np.array(X_train), np.array(y_train)\n",
    "\n",
    "# Reshaping\n",
    "X_train = np.reshape(X_train, (X_train.shape[0], X_train.shape[1], 1))"
   ]
  },
  {
   "cell_type": "code",
   "execution_count": 50,
   "metadata": {},
   "outputs": [],
   "source": [
    "# Part 2 - Building the RNN\n",
    "\n",
    "# Importing the Keras libraries and packages\n",
    "from keras.models import Sequential\n",
    "from keras.layers import Dense\n",
    "from keras.layers import LSTM\n",
    "from keras.layers import Dropout\n",
    "\n"
   ]
  },
  {
   "cell_type": "code",
   "execution_count": 51,
   "metadata": {},
   "outputs": [],
   "source": [
    "# Initialising the RNN\n",
    "regressor = Sequential()\n",
    "\n"
   ]
  },
  {
   "cell_type": "code",
   "execution_count": 52,
   "metadata": {},
   "outputs": [],
   "source": [
    "# Adding the first LSTM layer and some Dropout regularisation\n",
    "regressor.add(LSTM(units = 50, return_sequences = True, input_shape = (X_train.shape[1], 1)))\n",
    "regressor.add(Dropout(0.2))\n",
    "\n",
    "# Adding a second LSTM layer and some Dropout regularisation\n",
    "regressor.add(LSTM(units = 50, return_sequences = True))\n",
    "regressor.add(Dropout(0.2))\n",
    "\n",
    "# Adding a third LSTM layer and some Dropout regularisation\n",
    "regressor.add(LSTM(units = 50, return_sequences = True))\n",
    "regressor.add(Dropout(0.2))\n",
    "\n",
    "# Adding a fourth LSTM layer and some Dropout regularisation\n",
    "regressor.add(LSTM(units = 50))\n",
    "regressor.add(Dropout(0.2))\n",
    "\n",
    "# Adding the output layer\n",
    "regressor.add(Dense(units = 1))\n",
    "\n"
   ]
  },
  {
   "cell_type": "code",
   "execution_count": 53,
   "metadata": {},
   "outputs": [
    {
     "name": "stdout",
     "output_type": "stream",
     "text": [
      "Epoch 1/70\n",
      "656/656 [==============================] - 7s 11ms/step - loss: 0.0995\n",
      "Epoch 2/70\n",
      "656/656 [==============================] - 4s 7ms/step - loss: 0.0172\n",
      "Epoch 3/70\n",
      "656/656 [==============================] - 4s 6ms/step - loss: 0.0112A: 3s - ETA: 0s - loss: 0.01\n",
      "Epoch 4/70\n",
      "656/656 [==============================] - 4s 6ms/step - loss: 0.0085\n",
      "Epoch 5/70\n",
      "656/656 [==============================] - 4s 6ms/step - loss: 0.0082\n",
      "Epoch 6/70\n",
      "656/656 [==============================] - 4s 7ms/step - loss: 0.0078\n",
      "Epoch 7/70\n",
      "656/656 [==============================] - 4s 7ms/step - loss: 0.0081\n",
      "Epoch 8/70\n",
      "656/656 [==============================] - 4s 7ms/step - loss: 0.0080\n",
      "Epoch 9/70\n",
      "656/656 [==============================] - 5s 8ms/step - loss: 0.0078\n",
      "Epoch 10/70\n",
      "656/656 [==============================] - 5s 7ms/step - loss: 0.0073\n",
      "Epoch 11/70\n",
      "656/656 [==============================] - 5s 7ms/step - loss: 0.0068\n",
      "Epoch 12/70\n",
      "656/656 [==============================] - 5s 7ms/step - loss: 0.0081\n",
      "Epoch 13/70\n",
      "656/656 [==============================] - 4s 7ms/step - loss: 0.0071\n",
      "Epoch 14/70\n",
      "656/656 [==============================] - 4s 7ms/step - loss: 0.0063\n",
      "Epoch 15/70\n",
      "656/656 [==============================] - 4s 6ms/step - loss: 0.0068\n",
      "Epoch 16/70\n",
      "656/656 [==============================] - 4s 6ms/step - loss: 0.0067\n",
      "Epoch 17/70\n",
      "656/656 [==============================] - 4s 6ms/step - loss: 0.0072\n",
      "Epoch 18/70\n",
      "656/656 [==============================] - 4s 6ms/step - loss: 0.0066\n",
      "Epoch 19/70\n",
      "656/656 [==============================] - 4s 7ms/step - loss: 0.0066\n",
      "Epoch 20/70\n",
      "656/656 [==============================] - 4s 6ms/step - loss: 0.0073\n",
      "Epoch 21/70\n",
      "656/656 [==============================] - 4s 7ms/step - loss: 0.0063A: 2s - \n",
      "Epoch 22/70\n",
      "656/656 [==============================] - 4s 6ms/step - loss: 0.0067\n",
      "Epoch 23/70\n",
      "656/656 [==============================] - 4s 6ms/step - loss: 0.0075\n",
      "Epoch 24/70\n",
      "656/656 [==============================] - 4s 6ms/step - loss: 0.0063\n",
      "Epoch 25/70\n",
      "656/656 [==============================] - 5s 7ms/step - loss: 0.0064\n",
      "Epoch 26/70\n",
      "656/656 [==============================] - 4s 7ms/step - loss: 0.0061\n",
      "Epoch 27/70\n",
      "656/656 [==============================] - 5s 7ms/step - loss: 0.0059\n",
      "Epoch 28/70\n",
      "656/656 [==============================] - 5s 8ms/step - loss: 0.0053\n",
      "Epoch 29/70\n",
      "656/656 [==============================] - 5s 8ms/step - loss: 0.0054\n",
      "Epoch 30/70\n",
      "656/656 [==============================] - 5s 7ms/step - loss: 0.0057\n",
      "Epoch 31/70\n",
      "656/656 [==============================] - 5s 7ms/step - loss: 0.0056\n",
      "Epoch 32/70\n",
      "656/656 [==============================] - 4s 7ms/step - loss: 0.0063\n",
      "Epoch 33/70\n",
      "656/656 [==============================] - 5s 7ms/step - loss: 0.0051\n",
      "Epoch 34/70\n",
      "656/656 [==============================] - 5s 7ms/step - loss: 0.0058\n",
      "Epoch 35/70\n",
      "656/656 [==============================] - 5s 7ms/step - loss: 0.0055\n",
      "Epoch 36/70\n",
      "656/656 [==============================] - 5s 8ms/step - loss: 0.0054\n",
      "Epoch 37/70\n",
      "656/656 [==============================] - 4s 6ms/step - loss: 0.0051\n",
      "Epoch 38/70\n",
      "656/656 [==============================] - 4s 7ms/step - loss: 0.0045\n",
      "Epoch 39/70\n",
      "656/656 [==============================] - 5s 7ms/step - loss: 0.0044\n",
      "Epoch 40/70\n",
      "656/656 [==============================] - 4s 7ms/step - loss: 0.0045\n",
      "Epoch 41/70\n",
      "656/656 [==============================] - 5s 7ms/step - loss: 0.0050\n",
      "Epoch 42/70\n",
      "656/656 [==============================] - 5s 7ms/step - loss: 0.0045\n",
      "Epoch 43/70\n",
      "656/656 [==============================] - 4s 6ms/step - loss: 0.0043\n",
      "Epoch 44/70\n",
      "656/656 [==============================] - 4s 6ms/step - loss: 0.0046\n",
      "Epoch 45/70\n",
      "656/656 [==============================] - 4s 6ms/step - loss: 0.0047\n",
      "Epoch 46/70\n",
      "656/656 [==============================] - ETA: 0s - loss: 0.004 - 4s 6ms/step - loss: 0.0047\n",
      "Epoch 47/70\n",
      "656/656 [==============================] - 4s 6ms/step - loss: 0.0050\n",
      "Epoch 48/70\n",
      "656/656 [==============================] - 4s 6ms/step - loss: 0.0047A: 0s - loss: 0.\n",
      "Epoch 49/70\n",
      "656/656 [==============================] - 4s 6ms/step - loss: 0.0043\n",
      "Epoch 50/70\n",
      "656/656 [==============================] - 5s 8ms/step - loss: 0.0044\n",
      "Epoch 51/70\n",
      "656/656 [==============================] - 4s 7ms/step - loss: 0.0048\n",
      "Epoch 52/70\n",
      "656/656 [==============================] - 5s 7ms/step - loss: 0.0045\n",
      "Epoch 53/70\n",
      "656/656 [==============================] - 5s 8ms/step - loss: 0.0042\n",
      "Epoch 54/70\n",
      "656/656 [==============================] - 4s 7ms/step - loss: 0.0043\n",
      "Epoch 55/70\n",
      "656/656 [==============================] - 4s 6ms/step - loss: 0.0039\n",
      "Epoch 56/70\n",
      "656/656 [==============================] - 4s 6ms/step - loss: 0.0041\n",
      "Epoch 57/70\n",
      "656/656 [==============================] - 5s 7ms/step - loss: 0.0042\n",
      "Epoch 58/70\n",
      "656/656 [==============================] - 5s 7ms/step - loss: 0.0038\n",
      "Epoch 59/70\n",
      "656/656 [==============================] - 4s 7ms/step - loss: 0.0040\n",
      "Epoch 60/70\n",
      "656/656 [==============================] - 5s 7ms/step - loss: 0.0041\n",
      "Epoch 61/70\n",
      "656/656 [==============================] - 5s 8ms/step - loss: 0.0038\n",
      "Epoch 62/70\n",
      "656/656 [==============================] - 4s 6ms/step - loss: 0.0043A: 1s - los\n",
      "Epoch 63/70\n",
      "656/656 [==============================] - 4s 6ms/step - loss: 0.0040A: 2s\n",
      "Epoch 64/70\n",
      "656/656 [==============================] - 5s 8ms/step - loss: 0.0041\n",
      "Epoch 65/70\n",
      "656/656 [==============================] - 5s 7ms/step - loss: 0.0040\n",
      "Epoch 66/70\n",
      "656/656 [==============================] - 5s 7ms/step - loss: 0.0040A: 1s - loss:\n",
      "Epoch 67/70\n",
      "656/656 [==============================] - 4s 6ms/step - loss: 0.0045\n",
      "Epoch 68/70\n",
      "656/656 [==============================] - 4s 6ms/step - loss: 0.0041\n",
      "Epoch 69/70\n",
      "656/656 [==============================] - 4s 6ms/step - loss: 0.0036\n",
      "Epoch 70/70\n",
      "656/656 [==============================] - 4s 6ms/step - loss: 0.0039\n"
     ]
    },
    {
     "data": {
      "text/plain": [
       "<keras.callbacks.callbacks.History at 0x2b4245feb08>"
      ]
     },
     "execution_count": 53,
     "metadata": {},
     "output_type": "execute_result"
    }
   ],
   "source": [
    "# Compiling the RNN\n",
    "regressor.compile(optimizer = 'adam', loss = 'mean_squared_error')\n",
    "\n",
    "# Fitting the RNN to the Training set\n",
    "regressor.fit(X_train, y_train, epochs = 70, batch_size = 32)\n"
   ]
  },
  {
   "cell_type": "code",
   "execution_count": 82,
   "metadata": {},
   "outputs": [],
   "source": [
    "# Part 3 - Making the predictions and visualising the results\n",
    "\n",
    "# Getting the real stock price of 2017\n",
    "dataset_test = pd.read_csv('F:/Innovation_Lab/PYTHON/HEXAWARE_Test_2007-2009.csv',index_col=\"Date\",parse_dates=True)\n",
    "\n"
   ]
  },
  {
   "cell_type": "code",
   "execution_count": 83,
   "metadata": {},
   "outputs": [],
   "source": [
    "real_stock_price = dataset_test.iloc[:, 1:2].values"
   ]
  },
  {
   "cell_type": "code",
   "execution_count": 84,
   "metadata": {},
   "outputs": [
    {
     "data": {
      "text/html": [
       "<div>\n",
       "<style scoped>\n",
       "    .dataframe tbody tr th:only-of-type {\n",
       "        vertical-align: middle;\n",
       "    }\n",
       "\n",
       "    .dataframe tbody tr th {\n",
       "        vertical-align: top;\n",
       "    }\n",
       "\n",
       "    .dataframe thead th {\n",
       "        text-align: right;\n",
       "    }\n",
       "</style>\n",
       "<table border=\"1\" class=\"dataframe\">\n",
       "  <thead>\n",
       "    <tr style=\"text-align: right;\">\n",
       "      <th></th>\n",
       "      <th>Open</th>\n",
       "      <th>High</th>\n",
       "      <th>Low</th>\n",
       "      <th>Close</th>\n",
       "      <th>Adj Close</th>\n",
       "      <th>Volume</th>\n",
       "    </tr>\n",
       "    <tr>\n",
       "      <th>Date</th>\n",
       "      <th></th>\n",
       "      <th></th>\n",
       "      <th></th>\n",
       "      <th></th>\n",
       "      <th></th>\n",
       "      <th></th>\n",
       "    </tr>\n",
       "  </thead>\n",
       "  <tbody>\n",
       "    <tr>\n",
       "      <th>2007-07-03</th>\n",
       "      <td>81.275002</td>\n",
       "      <td>84.175003</td>\n",
       "      <td>81.275002</td>\n",
       "      <td>83.949997</td>\n",
       "      <td>51.313175</td>\n",
       "      <td>228990</td>\n",
       "    </tr>\n",
       "    <tr>\n",
       "      <th>2007-07-04</th>\n",
       "      <td>83.974998</td>\n",
       "      <td>84.275002</td>\n",
       "      <td>82.724998</td>\n",
       "      <td>83.224998</td>\n",
       "      <td>50.870060</td>\n",
       "      <td>171064</td>\n",
       "    </tr>\n",
       "    <tr>\n",
       "      <th>2007-07-05</th>\n",
       "      <td>83.000000</td>\n",
       "      <td>83.849998</td>\n",
       "      <td>81.500000</td>\n",
       "      <td>83.500000</td>\n",
       "      <td>51.038147</td>\n",
       "      <td>453288</td>\n",
       "    </tr>\n",
       "    <tr>\n",
       "      <th>2007-07-06</th>\n",
       "      <td>83.824997</td>\n",
       "      <td>83.875000</td>\n",
       "      <td>82.250000</td>\n",
       "      <td>83.550003</td>\n",
       "      <td>51.068718</td>\n",
       "      <td>315308</td>\n",
       "    </tr>\n",
       "    <tr>\n",
       "      <th>2007-07-09</th>\n",
       "      <td>84.599998</td>\n",
       "      <td>84.599998</td>\n",
       "      <td>83.250000</td>\n",
       "      <td>83.525002</td>\n",
       "      <td>51.053429</td>\n",
       "      <td>73382</td>\n",
       "    </tr>\n",
       "  </tbody>\n",
       "</table>\n",
       "</div>"
      ],
      "text/plain": [
       "                 Open       High        Low      Close  Adj Close  Volume\n",
       "Date                                                                     \n",
       "2007-07-03  81.275002  84.175003  81.275002  83.949997  51.313175  228990\n",
       "2007-07-04  83.974998  84.275002  82.724998  83.224998  50.870060  171064\n",
       "2007-07-05  83.000000  83.849998  81.500000  83.500000  51.038147  453288\n",
       "2007-07-06  83.824997  83.875000  82.250000  83.550003  51.068718  315308\n",
       "2007-07-09  84.599998  84.599998  83.250000  83.525002  51.053429   73382"
      ]
     },
     "execution_count": 84,
     "metadata": {},
     "output_type": "execute_result"
    }
   ],
   "source": [
    "dataset_test.head()"
   ]
  },
  {
   "cell_type": "code",
   "execution_count": 85,
   "metadata": {},
   "outputs": [
    {
     "name": "stdout",
     "output_type": "stream",
     "text": [
      "<class 'pandas.core.frame.DataFrame'>\n",
      "DatetimeIndex: 491 entries, 2007-07-03 to 2009-07-02\n",
      "Data columns (total 6 columns):\n",
      " #   Column     Non-Null Count  Dtype  \n",
      "---  ------     --------------  -----  \n",
      " 0   Open       491 non-null    float64\n",
      " 1   High       491 non-null    float64\n",
      " 2   Low        491 non-null    float64\n",
      " 3   Close      491 non-null    float64\n",
      " 4   Adj Close  491 non-null    float64\n",
      " 5   Volume     491 non-null    int64  \n",
      "dtypes: float64(5), int64(1)\n",
      "memory usage: 26.9 KB\n"
     ]
    }
   ],
   "source": [
    "dataset_test.info()"
   ]
  },
  {
   "cell_type": "code",
   "execution_count": 86,
   "metadata": {},
   "outputs": [],
   "source": [
    "dataset_test = dataset_test.replace(to_replace='null', value=np.nan).dropna()"
   ]
  },
  {
   "cell_type": "code",
   "execution_count": null,
   "metadata": {},
   "outputs": [],
   "source": []
  },
  {
   "cell_type": "code",
   "execution_count": 87,
   "metadata": {},
   "outputs": [],
   "source": [
    "#dataset_test[\"Volume\"] = dataset_test[\"Volume\"].str.replace(',', '').astype(float)"
   ]
  },
  {
   "cell_type": "code",
   "execution_count": 88,
   "metadata": {},
   "outputs": [],
   "source": [
    "test_set=dataset_test['Open']\n",
    "test_set=pd.DataFrame(test_set)"
   ]
  },
  {
   "cell_type": "code",
   "execution_count": 89,
   "metadata": {},
   "outputs": [
    {
     "name": "stdout",
     "output_type": "stream",
     "text": [
      "<class 'pandas.core.frame.DataFrame'>\n",
      "DatetimeIndex: 491 entries, 2007-07-03 to 2009-07-02\n",
      "Data columns (total 1 columns):\n",
      " #   Column  Non-Null Count  Dtype  \n",
      "---  ------  --------------  -----  \n",
      " 0   Open    491 non-null    float64\n",
      "dtypes: float64(1)\n",
      "memory usage: 7.7 KB\n"
     ]
    }
   ],
   "source": [
    "test_set.info()"
   ]
  },
  {
   "cell_type": "code",
   "execution_count": 90,
   "metadata": {},
   "outputs": [],
   "source": [
    "# Getting the predicted stock price of 2007-2009\n",
    "dataset_total = pd.concat((dataset['Open'], dataset_test['Open']), axis = 0)\n",
    "inputs = dataset_total[len(dataset_total) - len(dataset_test) - 60:].values\n",
    "inputs = inputs.reshape(-1,1)\n",
    "inputs = sc.transform(inputs)\n",
    "X_test = []\n",
    "for i in range(60, 550):\n",
    "    X_test.append(inputs[i-60:i, 0])\n",
    "X_test = np.array(X_test)\n",
    "X_test = np.reshape(X_test, (X_test.shape[0], X_test.shape[1], 1))\n",
    "predicted_stock_price = regressor.predict(X_test)\n",
    "predicted_stock_price = sc.inverse_transform(predicted_stock_price)"
   ]
  },
  {
   "cell_type": "code",
   "execution_count": 91,
   "metadata": {},
   "outputs": [
    {
     "name": "stdout",
     "output_type": "stream",
     "text": [
      "<class 'pandas.core.frame.DataFrame'>\n",
      "RangeIndex: 490 entries, 0 to 489\n",
      "Data columns (total 1 columns):\n",
      " #   Column  Non-Null Count  Dtype  \n",
      "---  ------  --------------  -----  \n",
      " 0   0       490 non-null    float32\n",
      "dtypes: float32(1)\n",
      "memory usage: 2.0 KB\n"
     ]
    }
   ],
   "source": [
    "predicted_stock_price=pd.DataFrame(predicted_stock_price)\n",
    "predicted_stock_price.info()"
   ]
  },
  {
   "cell_type": "code",
   "execution_count": 93,
   "metadata": {},
   "outputs": [
    {
     "data": {
      "image/png": "[encoded data removed]",
      "text/plain": [
       "<Figure size 432x288 with 1 Axes>"
      ]
     },
     "metadata": {
      "needs_background": "light"
     },
     "output_type": "display_data"
    }
   ],
   "source": [
    "\n",
    "# Visualising the results\n",
    "plt.plot(real_stock_price, color = 'red', label = 'Real Hexaware Stock Price')\n",
    "plt.plot(predicted_stock_price, color = 'blue', label = 'Predicted Hexaware Stock Price')\n",
    "plt.title('Hexaware Stock Price Prediction 2007-2009')\n",
    "plt.xlabel('Days')\n",
    "plt.ylabel('Hexaware Stock Price')\n",
    "plt.legend()\n",
    "plt.show()\n"
   ]
  },
  {
   "cell_type": "code",
   "execution_count": null,
   "metadata": {},
   "outputs": [],
   "source": []
  },
  {
   "cell_type": "code",
   "execution_count": null,
   "metadata": {},
   "outputs": [],
   "source": []
  },
  {
   "cell_type": "code",
   "execution_count": null,
   "metadata": {},
   "outputs": [],
   "source": []
  }
 ],
 "metadata": {
  "kernelspec": {
   "display_name": "Python 3",
   "language": "python",
   "name": "python3"
  },
  "language_info": {
   "codemirror_mode": {
    "name": "ipython",
    "version": 3
   },
   "file_extension": ".py",
   "mimetype": "text/x-python",
   "name": "python",
   "nbconvert_exporter": "python",
   "pygments_lexer": "ipython3",
   "version": "3.7.6"
  }
 },
 "nbformat": 4,
 "nbformat_minor": 2
}
